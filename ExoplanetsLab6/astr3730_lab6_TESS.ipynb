{
 "cells": [
  {
   "cell_type": "code",
   "execution_count": 2,
   "metadata": {
    "scrolled": false
   },
   "outputs": [],
   "source": [
    "%matplotlib inline\n",
    "import matplotlib.pyplot as plt\n",
    "import numpy as np"
   ]
  },
  {
   "cell_type": "code",
   "execution_count": 3,
   "metadata": {},
   "outputs": [],
   "source": [
    "from astropy.io import fits"
   ]
  },
  {
   "cell_type": "markdown",
   "metadata": {},
   "source": [
    "# Lab 6 -- Transiting exoplanet from TESS\n",
    "\n",
    "In this lab we will explore the transit method for detecting and characterizing extrasolar planets, using real data from the TESS mission"
   ]
  },
  {
   "cell_type": "code",
   "execution_count": 4,
   "metadata": {},
   "outputs": [
    {
     "name": "stdout",
     "output_type": "stream",
     "text": [
      "Filename: hlsp_qlp_tess_ffi_s0026-0000000157586003_tess_v01_llc.fits\n",
      "No.    Name      Ver    Type      Cards   Dimensions   Format\n",
      "  0  PRIMARY       1 PrimaryHDU      29   ()      \n",
      "  1  LIGHTCURVE    1 BinTableHDU     65   1148R x 13C   [D, J, E, E, E, J, J, E, E, E, E, E, E]   \n",
      "None\n",
      "['TIME', 'CADENCENO', 'SAP_FLUX', 'KSPSAP_FLUX', 'KSPSAP_FLUX_ERR', 'QUALITY', 'ORBITID', 'SAP_X', 'SAP_Y', 'SAP_BKG', 'SAP_BKG_ERR', 'KSPSAP_FLUX_SML', 'KSPSAP_FLUX_LAG']\n"
     ]
    }
   ],
   "source": [
    "# load data and print out variable names\n",
    "f = fits.open('hlsp_qlp_tess_ffi_s0026-0000000157586003_tess_v01_llc.fits')\n",
    "print(f.info())\n",
    "print(f[1].data.names)"
   ]
  },
  {
   "cell_type": "markdown",
   "metadata": {},
   "source": [
    "### 1. Sample TESS transit light curve\n",
    "\n",
    "The data are stored in the \"LIGHTCURVE\" portion of the FITS file, with \n",
    "variable names listed above. Looking at those, choose one that you think could represent the flux of the star vs time and write its name as flux_variable_name below. If there is more than one thing you think might be right try them out and see which one makes the most sensible plot!"
   ]
  },
  {
   "cell_type": "code",
   "execution_count": 8,
   "metadata": {},
   "outputs": [],
   "source": [
    "# write the variable name below\n",
    "flux_variable_name=''"
   ]
  },
  {
   "cell_type": "markdown",
   "metadata": {},
   "source": [
    "### 2. Identify and mark transit signatures\n",
    "\n",
    "The plot below should make a light curve (flux of the star vs time).\n",
    "\n",
    "Mark any promising transit signals (periodic drops in brightness) on the light curve plot. Fill in the time in days of the first transit, the period, and the depth of the signal in the variables below and then run the code to mark the transits on the plot.\n"
   ]
  },
  {
   "cell_type": "code",
   "execution_count": null,
   "metadata": {},
   "outputs": [],
   "source": [
    "time_variable=f[1].data.field('TIME')\n",
    "flux_variable=f[1].data.field(flux_variable_name)\n",
    "\n",
    "fig = plt.figure(figsize=(15,10))\n",
    "plt.plot(time_variable,flux_variable,color='k')\n",
    "plt.scatter(time_variable,flux_variable,color='grey',s=5,zorder=3,marker='o')\n",
    "plt.ylim(0.985,1.005)\n",
    "\n",
    "plt.xlabel('time (days)',fontsize=16); plt.ylabel('normalized stellar flux',fontsize=16)\n",
    "\n",
    "ax = plt.gca()\n",
    "ax.xaxis.set_tick_params(labelsize=14)\n",
    "ax.yaxis.set_tick_params(labelsize=14)\n",
    "\n",
    "# replace these numbers with your own measurements!\n",
    "first_transit_time=2010\n",
    "period=0\n",
    "depth=0\n",
    "\n",
    "for i in range(8):\n",
    "    plt.plot(first_transit_time+i*period+np.zeros(50),depth*np.arange(50)/49.+(1.-depth),linestyle='--',color='red')"
   ]
  },
  {
   "cell_type": "markdown",
   "metadata": {},
   "source": [
    "### 3. Transit duration and depth\n",
    "\n",
    "Use the plot below to zoom in on one of the transits and measure its duration + depth."
   ]
  },
  {
   "cell_type": "code",
   "execution_count": null,
   "metadata": {},
   "outputs": [],
   "source": [
    "fig = plt.figure(figsize=(15,10))\n",
    "\n",
    "plt.plot(time_variable,flux_variable,marker=\"o\")\n",
    "plt.ylim(0.985,1.005)\n",
    "\n",
    "plt.xlabel('time (days)',fontsize=16); plt.ylabel('normalized stellar flux',fontsize=16)\n",
    "\n",
    "ax = plt.gca()\n",
    "ax.yaxis.set_tick_params(labelsize=14);ax.xaxis.set_tick_params(labelsize=14)\n",
    "plt.grid(b=True,which='minor',alpha=0.2);plt.grid(b=True,which='major',alpha=0.7)\n",
    "plt.minorticks_on()\n",
    "plt.xlim(first_transit_time-0.2,first_transit_time+0.2)\n",
    "ax.xaxis.grid(True,which='minor')"
   ]
  },
  {
   "cell_type": "markdown",
   "metadata": {},
   "source": [
    "### 4. The radius of the exoplanet\n",
    "\n",
    "Write an equation for the radius of the exoplanet. What quantity does it depend on that we haven't measured from the transit light curve? [*Hint*: what ratio should the amount of light blocked depend on?]\n",
    "\n",
    "Find the needed information in the FITS file header below, and solve for the radius of the planet in units of Earth radii."
   ]
  },
  {
   "cell_type": "code",
   "execution_count": null,
   "metadata": {},
   "outputs": [],
   "source": [
    "f[0].header"
   ]
  },
  {
   "cell_type": "markdown",
   "metadata": {},
   "source": [
    "### 5. Transit duration and orbital semi-major axis\n",
    "\n",
    "Use your measured transit duration and period to solve for the semi-major axis of the binary orbit. Express your answer in terms of the Earth-Sun distance 1AU = 1.5x10^13 cm. You may assume that the inclination is exactly edge-on ($i = 90^\\circ$), although note that we do not know that here! [*Hint*: how far does the exoplanet travel during the transit?]\n",
    "\n",
    "Using the semi-major axis and Kepler's 3rd law, solve for the total mass of the system. Compare your answer to the mass reported from the header above. Other than measurement errors, why might the two numbers be a little different?"
   ]
  },
  {
   "cell_type": "code",
   "execution_count": null,
   "metadata": {},
   "outputs": [],
   "source": []
  },
  {
   "cell_type": "markdown",
   "metadata": {},
   "source": [
    "### 6. Planet mass from the radial velocity\n",
    "\n",
    "This system also has radial velocity measurements, which show a line of sight velocity amplitude of $0.04$ km s$^{-1}$. Solve for the mass of the planet, assuming it is much smaller than that of its host star. [*Hint*: recall the binary mass function!]"
   ]
  },
  {
   "cell_type": "code",
   "execution_count": null,
   "metadata": {},
   "outputs": [],
   "source": []
  },
  {
   "cell_type": "markdown",
   "metadata": {},
   "source": [
    "### 7. Daytime temperature\n",
    "\n",
    "Given the effective temperature of the star above, how would the daytime temperature of the planet compare to that of Earth? [*Hint*: if you assume the only thing heating the planet is the incident starlight, what should this ratio depend on?]"
   ]
  },
  {
   "cell_type": "code",
   "execution_count": null,
   "metadata": {},
   "outputs": [],
   "source": []
  },
  {
   "cell_type": "markdown",
   "metadata": {},
   "source": [
    "### 8. Characterize the star - exoplanet system\n",
    "\n",
    "Using your results above, how do the properties of this extrasolar planet compare to those in the Solar system? Which planet is it most similar to in radius and mass? Is its orbital location similar to where that planet is found in the Solar system?\n",
    "\n",
    "Properties of solar system planets are listed e.g. at this link\n",
    "https://nssdc.gsfc.nasa.gov/planetary/factsheet/"
   ]
  }
 ],
 "metadata": {
  "kernelspec": {
   "display_name": "Python 3",
   "language": "python",
   "name": "python3"
  },
  "language_info": {
   "codemirror_mode": {
    "name": "ipython",
    "version": 3
   },
   "file_extension": ".py",
   "mimetype": "text/x-python",
   "name": "python",
   "nbconvert_exporter": "python",
   "pygments_lexer": "ipython3",
   "version": "3.7.7"
  }
 },
 "nbformat": 4,
 "nbformat_minor": 2
}
